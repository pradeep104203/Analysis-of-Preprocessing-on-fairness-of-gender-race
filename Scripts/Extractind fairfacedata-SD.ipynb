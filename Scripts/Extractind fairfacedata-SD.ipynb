{
 "cells": [
  {
   "cell_type": "code",
   "execution_count": 9,
   "metadata": {},
   "outputs": [],
   "source": [
    "import os\n",
    "import csv\n",
    "import xlrd\n",
    "import shutil\n",
    "from imutils"
   ]
  },
  {
   "cell_type": "code",
   "execution_count": 10,
   "metadata": {},
   "outputs": [],
   "source": [
    "csv_data = r'/users/pradeep/Downloads/fairface_label_val.csv'\n",
    "save_data = r'/users/pradeep/Downloads/fairface-img-margin025-trainval/abc'"
   ]
  },
  {
   "cell_type": "code",
   "execution_count": 13,
   "metadata": {},
   "outputs": [],
   "source": [
    "with open(csv_data) as csvfile:\n",
    "    spamreader = csv.reader(csvfile, delimiter=' ', quotechar='|')\n",
    "    for row in (spamreader):\n",
    "        every_row = row[0].split(',')\n",
    "        #print(every_row)\n",
    "        if len(every_row)>=3:\n",
    "            if every_row[2]=='Male':\n",
    "                shutil.copy2(os.path.join('/users/pradeep/Downloads/fairface-img-margin025-trainval',every_row[0]),save_data+'/'+'Male')\n",
    "            elif every_row[2]=='Female':\n",
    "                shutil.copy2(os.path.join('/users/pradeep/Downloads/fairface-img-margin025-trainval',every_row[0]),save_data+'/'+'Female')"
   ]
  },
  {
   "cell_type": "code",
   "execution_count": 14,
   "metadata": {},
   "outputs": [],
   "source": [
    "csv_data = r'/users/pradeep/Downloads/fairface_label_train.csv'\n",
    "save_data = r'/users/pradeep/Downloads/fairface-img-margin025-trainval/xyz'"
   ]
  },
  {
   "cell_type": "code",
   "execution_count": 15,
   "metadata": {},
   "outputs": [],
   "source": [
    "with open(csv_data) as csvfile:\n",
    "    spamreader = csv.reader(csvfile, delimiter=' ', quotechar='|')\n",
    "    for row in (spamreader):\n",
    "        every_row = row[0].split(',')\n",
    "        #print(every_row)\n",
    "        if len(every_row)>=3:\n",
    "            if every_row[2]=='Male':\n",
    "                shutil.copy2(os.path.join('/users/pradeep/Downloads/fairface-img-margin025-trainval',every_row[0]),save_data+'/'+'Male')\n",
    "            elif every_row[2]=='Female':\n",
    "                shutil.copy2(os.path.join('/users/pradeep/Downloads/fairface-img-margin025-trainval',every_row[0]),save_data+'/'+'Female')"
   ]
  },
  {
   "cell_type": "code",
   "execution_count": null,
   "metadata": {},
   "outputs": [],
   "source": []
  }
 ],
 "metadata": {
  "kernelspec": {
   "display_name": "Python 3",
   "language": "python",
   "name": "python3"
  },
  "language_info": {
   "codemirror_mode": {
    "name": "ipython",
    "version": 3
   },
   "file_extension": ".py",
   "mimetype": "text/x-python",
   "name": "python",
   "nbconvert_exporter": "python",
   "pygments_lexer": "ipython3",
   "version": "3.8.3"
  }
 },
 "nbformat": 4,
 "nbformat_minor": 4
}
